{
 "cells": [
  {
   "cell_type": "code",
   "execution_count": 1,
   "metadata": {},
   "outputs": [],
   "source": [
    "from __future__ import print_function\n",
    "import pandas as pd\n",
    "import shutil\n",
    "import os\n",
    "import sys\n"
   ]
  },
  {
   "cell_type": "code",
   "execution_count": 7,
   "metadata": {},
   "outputs": [],
   "source": [
    "labels = pd.read_csv('label.csv')\n",
    "\n",
    "# Create `train_sep` directory\n",
    "train_dir = 'Dataset/'\n",
    "train_sep_dir = 'train/'\n",
    "if not os.path.exists(train_sep_dir):\n",
    "    os.mkdir(train_sep_dir)"
   ]
  },
  {
   "cell_type": "code",
   "execution_count": 9,
   "metadata": {},
   "outputs": [],
   "source": [
    "for filename, class_name in labels.values:\n",
    "    # Create subdirectory with `class_name`\n",
    "    if not os.path.exists(train_sep_dir + str(class_name)):\n",
    "        os.mkdir(train_sep_dir + str(class_name))    \n",
    "    fname= str(filename)\n",
    "    cname= str(class_name)\n",
    "    src_path = train_dir + fname + '.png'\n",
    "    dst_path = train_sep_dir + cname + '/' + fname + '.png'\n",
    "\n",
    "    try:\n",
    "        shutil.copy(src_path, dst_path)\n",
    "    except IOError as e:\n",
    "        print('Unable to copy file {} to {}'\n",
    "              .format(src_path, dst_path))\n",
    "    except:\n",
    "        print('When try copy file {} to {}, unexpected error: {}'\n",
    "              .format(src_path, dst_path, sys.exc_info()))\n",
    "     "
   ]
  },
  {
   "cell_type": "code",
   "execution_count": null,
   "metadata": {},
   "outputs": [],
   "source": []
  },
  {
   "cell_type": "code",
   "execution_count": null,
   "metadata": {},
   "outputs": [],
   "source": []
  }
 ],
 "metadata": {
  "kernelspec": {
   "display_name": "Python 3",
   "language": "python",
   "name": "python3"
  },
  "language_info": {
   "codemirror_mode": {
    "name": "ipython",
    "version": 3
   },
   "file_extension": ".py",
   "mimetype": "text/x-python",
   "name": "python",
   "nbconvert_exporter": "python",
   "pygments_lexer": "ipython3",
   "version": "3.8.5"
  }
 },
 "nbformat": 4,
 "nbformat_minor": 4
}
