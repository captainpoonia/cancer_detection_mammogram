{
 "cells": [
  {
   "cell_type": "code",
   "execution_count": null,
   "metadata": {},
   "outputs": [],
   "source": [
    "import pandas as pd\n",
    "from shutil import move\n",
    "import os\n",
    "\n"
   ]
  },
  {
   "cell_type": "code",
   "execution_count": null,
   "metadata": {},
   "outputs": [],
   "source": [
    "\n",
    "df = pd.read_csv('label.csv')\n",
    "all_images = os.listdir('Dataset')"
   ]
  },
  {
   "cell_type": "code",
   "execution_count": null,
   "metadata": {},
   "outputs": [],
   "source": [
    "\n",
    "co = 0\n",
    "for image in all_images:\n",
    "    print(image)\n",
    "    breed = df[df['name'] == image]['breed']\n",
    "    breed = str(list(breed)[0])\n",
    "    if not os.path.exists(os.path.join('categories', breed)):\n",
    "        os.mkdir(os.path.join('categories', breed))\n",
    "\n",
    "    path_from = os.path.join('train', image)\n",
    "    path_to = os.path.join('categories', breed, image)\n",
    "\n",
    "    move(path_from, path_to)\n",
    "    print('Moved {} to {}'.format(image, path_to))\n",
    "    co += 1\n",
    "\n",
    "print('Moved {} images.'.format(co))\n",
    "\n"
   ]
  },
  {
   "cell_type": "code",
   "execution_count": 14,
   "metadata": {},
   "outputs": [],
   "source": [
    "import pandas as pd\n",
    "import os\n",
    "\n",
    "labels = pd.read_csv(f'label.csv')"
   ]
  },
  {
   "cell_type": "code",
   "execution_count": null,
   "metadata": {},
   "outputs": [],
   "source": []
  }
 ],
 "metadata": {
  "kernelspec": {
   "display_name": "Python 3",
   "language": "python",
   "name": "python3"
  },
  "language_info": {
   "codemirror_mode": {
    "name": "ipython",
    "version": 3
   },
   "file_extension": ".py",
   "mimetype": "text/x-python",
   "name": "python",
   "nbconvert_exporter": "python",
   "pygments_lexer": "ipython3",
   "version": "3.8.5"
  }
 },
 "nbformat": 4,
 "nbformat_minor": 4
}
